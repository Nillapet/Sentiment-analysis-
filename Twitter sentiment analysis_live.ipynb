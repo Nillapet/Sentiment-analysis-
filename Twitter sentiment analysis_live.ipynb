from sklearn.feature_extraction.text import TfidfVectorizer
from sklearn.naive_bayes import MultinomialNB
from sklearn.svm import SVC
from sklearn.linear_model import LogisticRegression
from sklearn.model_selection import train_test_split
from sklearn.metrics import accuracy_score, precision_score, recall_score

# Sample Amazon product app reviews 
reviews = ["Your service is being pathetic day by day, Worst experience from Amazon.", 
           "I have not returned my order. Delivery person refused to doorstep delivery.",
           "That's amazing technology 👍👍👍",
           "amazon wtf i just paid then my acounts on hold",
           "Cute. For the record I've been on phone 22 minutes"]

# Sentiment labels (positive, negative, or neutral)
sentiments = [1, 0, 2, 1, 0]

# Data preprocessing (performed as a single step for simplicity)
def preprocess_text(text):
  text = text.lower()  # Lowercase
  text = ''.join([char for char in text if char.isalnum() or char == " "])  # Remove special characters
  words = text.split()  # Tokenize
  return words

# Preprocess reviews
reviews_preprocessed = [preprocess_text(review) for review in reviews]

# Feature engineering with TF-IDF
vectorizer = TfidfVectorizer()
features = vectorizer.fit_transform(reviews_preprocessed)

# Train-test split
X_train, X_test, y_train, y_test = train_test_split(features, sentiments, test_size=0.2)


# Define and train models
models = {"Naive Bayes": MultinomialNB(),
          "SVM": SVC(),
          "Logistic Regression": LogisticRegression(solver='lbfgs')}

for name, model in models.items():
  model.fit(X_train, y_train)

  # Evaluate model performance
  y_pred = model.predict(X_test)
  accuracy = accuracy_score(y_test, y_pred)
  precision = precision_score(y_test, y_pred, average='weighted')
  recall = recall_score(y_test, y_pred, average='weighted')

  print(f"** {name} Performance **")
  print(f"Accuracy: {accuracy:.4f}")
  print(f"Precision: {precision:.4f}")
  print(f"Recall: {recall:.4f}")
  print("-" * 30)

# Sentiment prediction function for new reviews
def predict_sentiment(review):
  review_processed = preprocess_text(review)
  review_features = vectorizer.transform([review_processed])
  for name, model in models.items():
    prediction = model.predict(review_features)[0]
    sentiment = "Positive" if prediction == 1 else "Negative" if prediction == 0 else "Neutral"
    print(f"{name}: Review sentiment is {sentiment}")

# Example usage
new_review = "This product is amazing!"
predict_sentiment(new_review)
